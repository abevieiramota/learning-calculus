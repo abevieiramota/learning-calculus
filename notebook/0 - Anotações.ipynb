{
 "cells": [
  {
   "cell_type": "markdown",
   "metadata": {},
   "source": [
    "$$\\frac{du}{dt} = \\lim_{\\Delta t \\to 0} \\frac{u(t + \\Delta t) - u(t)}{\\Delta t}$$"
   ]
  },
  {
   "cell_type": "markdown",
   "metadata": {},
   "source": [
    "$$\\lim_{x \\to 0} \\frac{sin(x)}{x} = 1$$"
   ]
  },
  {
   "cell_type": "markdown",
   "metadata": {},
   "source": [
    "$$\\lim_{x \\to 0}\\frac{1 - cos(x)}{x} = 0$$"
   ]
  },
  {
   "cell_type": "markdown",
   "metadata": {},
   "source": [
    "$$(cu)' = cu'$$\n",
    "$$(u+v)' = u' + v'$$\n",
    "$$(uv)' = u'v + uv'$$\n",
    "$$\\left(\\frac{u}{v}\\right)' = \\frac{u'v - uv'}{v^2}$$\n",
    "$$\\frac{d(f\\circ g)}{dx} = \\frac{df}{dg} \\frac{dg}{dx}$$"
   ]
  },
  {
   "cell_type": "markdown",
   "metadata": {},
   "source": [
    "$$sin'(x) = cos(x)$$\n",
    "$$cos'(x) = -sin(x)$$"
   ]
  },
  {
   "cell_type": "markdown",
   "metadata": {},
   "source": [
    "$$u' = \\frac{du}{dt} = \\frac{d}{dt}u = Du$$"
   ]
  },
  {
   "cell_type": "markdown",
   "metadata": {},
   "source": [
    "$$D^nx^n = n!$$"
   ]
  },
  {
   "cell_type": "code",
   "execution_count": null,
   "metadata": {
    "collapsed": true
   },
   "outputs": [],
   "source": []
  }
 ],
 "metadata": {
  "kernelspec": {
   "display_name": "Python 3",
   "language": "python",
   "name": "python3"
  },
  "language_info": {
   "codemirror_mode": {
    "name": "ipython",
    "version": 3
   },
   "file_extension": ".py",
   "mimetype": "text/x-python",
   "name": "python",
   "nbconvert_exporter": "python",
   "pygments_lexer": "ipython3",
   "version": "3.5.1"
  }
 },
 "nbformat": 4,
 "nbformat_minor": 0
}
