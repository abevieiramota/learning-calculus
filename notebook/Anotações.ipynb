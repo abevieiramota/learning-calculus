{
 "cells": [
  {
   "cell_type": "markdown",
   "metadata": {},
   "source": [
    "$$\\frac{du}{dt} = \\lim_{\\Delta t \\to 0} \\frac{u(t + \\Delta t) - u(t)}{\\Delta t}$$"
   ]
  },
  {
   "cell_type": "markdown",
   "metadata": {},
   "source": [
    "$$\\lim_{x \\to 0} \\frac{sin(x)}{x} = 1$$"
   ]
  },
  {
   "cell_type": "markdown",
   "metadata": {},
   "source": [
    "$$\\lim_{x \\to 0}\\frac{1 - cos(x)}{x} = 0$$"
   ]
  },
  {
   "cell_type": "markdown",
   "metadata": {},
   "source": [
    "$$(cu)' = cu'$$\n",
    "$$(u+v)' = u' + v'$$\n",
    "$$(uv)' = u'v + uv'$$\n",
    "$$\\left(\\frac{u}{v}\\right)' = \\frac{u'v - uv'}{v^2}$$\n",
    "$$\\frac{d(f\\circ g)}{dx} = \\frac{df}{dg} \\frac{dg}{dx}$$"
   ]
  },
  {
   "cell_type": "markdown",
   "metadata": {},
   "source": [
    "$$sin'(x) = cos(x)$$\n",
    "$$cos'(x) = -sin(x)$$\n",
    "$$tan'(x) = sec^2(x)$$\n",
    "$$arctan'(x) = \\frac{1}{1 + x^2}$$"
   ]
  },
  {
   "cell_type": "markdown",
   "metadata": {},
   "source": [
    "$$u' = \\frac{du}{dt} = \\frac{d}{dt}u = Du$$"
   ]
  },
  {
   "cell_type": "markdown",
   "metadata": {},
   "source": [
    "$$D^nx^n = n!$$"
   ]
  },
  {
   "cell_type": "markdown",
   "metadata": {
    "collapsed": true
   },
   "source": [
    "$$(e^x)' = e^x$$\n",
    "$$(\\ln x)' = \\frac{1}{x}$$\n",
    "$$(a^x)' = (\\ln a)e^{x\\ln a} = (\\ln a)a^x$$\n",
    "## $$(\\ln u)' = \\frac{u'}{u}$$\n",
    "$$(x^x)' = x^x(1 + \\ln x)$$\n",
    "$$\\lim_{n \\to \\infty}(1 + \\frac{1}{n})^n = e$$"
   ]
  },
  {
   "cell_type": "markdown",
   "metadata": {},
   "source": [
    "linear approximation"
   ]
  },
  {
   "cell_type": "markdown",
   "metadata": {},
   "source": [
    "$$f(x)\\approx f(x_0) + f'(x_0)(x - x_0)$$\n",
    "$$x_0 = 0 \\ddots$$\n",
    "$$f(x)\\approx f(0) + f'(0)x$$"
   ]
  },
  {
   "cell_type": "markdown",
   "metadata": {},
   "source": [
    "quadratic approximation"
   ]
  },
  {
   "cell_type": "markdown",
   "metadata": {},
   "source": [
    "$$f(x)\\approx f(x_0) + f'(x_0)(x - x_0) + \\frac{f''(x_0)}{2}(x - x_0)^2$$\n",
    "$$x_0 = 0 \\ddots$$\n",
    "$$f(x)\\approx f(0) + f'(0)x + \\frac{f''(0)}{2}x^2$$"
   ]
  },
  {
   "cell_type": "markdown",
   "metadata": {},
   "source": [
    "$$approx(prod(u, v), grade) = drop\\_grade(prod(approx(u), approx(v)), grade)$$"
   ]
  },
  {
   "cell_type": "markdown",
   "metadata": {},
   "source": [
    "f' > 0 -> f is increasing\n",
    "f' < 0 -> f is decreasing\n",
    "f'' > 0 -> f' is increasing -> concav up\n",
    "f'' < 0 -> f' is decreasing -> concav down\n",
    "argf'=0 -> turning/critical points (x0, y0), x0 is a critical point, y0 is a critical value\n",
    "argf''=0 -> inflection points\n",
    "\n",
    "curve sketching \n",
    "* calculate cool infos, plot critical points e concav curve around\n",
    "* plot function zeros\n",
    "* calculate $$\\lim_{x \\to \\pm \\infty}$$\n",
    "* sketch"
   ]
  },
  {
   "cell_type": "code",
   "execution_count": null,
   "metadata": {
    "collapsed": true
   },
   "outputs": [],
   "source": []
  }
 ],
 "metadata": {
  "kernelspec": {
   "display_name": "Python 3",
   "language": "python",
   "name": "python3"
  },
  "language_info": {
   "codemirror_mode": {
    "name": "ipython",
    "version": 3
   },
   "file_extension": ".py",
   "mimetype": "text/x-python",
   "name": "python",
   "nbconvert_exporter": "python",
   "pygments_lexer": "ipython3",
   "version": "3.5.1"
  }
 },
 "nbformat": 4,
 "nbformat_minor": 0
}
